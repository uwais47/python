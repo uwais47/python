{
  "nbformat": 4,
  "nbformat_minor": 0,
  "metadata": {
    "colab": {
      "provenance": [],
      "authorship_tag": "ABX9TyPexq1fhcgk7FnXfSzKlB1R",
      "include_colab_link": true
    },
    "kernelspec": {
      "name": "python3",
      "display_name": "Python 3"
    },
    "language_info": {
      "name": "python"
    }
  },
  "cells": [
    {
      "cell_type": "markdown",
      "metadata": {
        "id": "view-in-github",
        "colab_type": "text"
      },
      "source": [
        "<a href=\"https://colab.research.google.com/github/uwais47/python/blob/main/Untitled7.ipynb\" target=\"_parent\"><img src=\"https://colab.research.google.com/assets/colab-badge.svg\" alt=\"Open In Colab\"/></a>"
      ]
    },
    {
      "cell_type": "code",
      "execution_count": 1,
      "metadata": {
        "id": "hj81uIXAYxne"
      },
      "outputs": [],
      "source": [
        "# Import all of the functions from the SymPy library.\n",
        "from sympy import *\n",
        "\n"
      ]
    },
    {
      "cell_type": "code",
      "source": [
        "from sympy import *\n",
        "v=symbols(\"v\")\n",
        "tan=(exp(v)-exp(-v))/(exp(v)+exp(-v))\n",
        "d= diff(tan,v)\n",
        "simplify (d-(1-tan**2))\n"
      ],
      "metadata": {
        "colab": {
          "base_uri": "https://localhost:8080/",
          "height": 37
        },
        "id": "F65vMJQZgmuR",
        "outputId": "f5bfa880-dd55-431c-c45d-53da06addaba"
      },
      "execution_count": 21,
      "outputs": [
        {
          "output_type": "execute_result",
          "data": {
            "text/plain": [
              "0"
            ],
            "text/latex": "$\\displaystyle 0$"
          },
          "metadata": {},
          "execution_count": 21
        }
      ]
    },
    {
      "cell_type": "code",
      "source": [
        "from sympy import *\n",
        "v=symbols(\"v\")\n",
        "sigma=1/(1+exp(-v))\n",
        "d= diff(sigma,v)\n",
        "simplify(d-(sigma*(1-sigma)))"
      ],
      "metadata": {
        "colab": {
          "base_uri": "https://localhost:8080/",
          "height": 37
        },
        "id": "zeKcdYrWdgfx",
        "outputId": "bedaac2d-a4aa-47ce-92c1-644e5e6dbb87"
      },
      "execution_count": 10,
      "outputs": [
        {
          "output_type": "execute_result",
          "data": {
            "text/plain": [
              "0"
            ],
            "text/latex": "$\\displaystyle 0$"
          },
          "metadata": {},
          "execution_count": 10
        }
      ]
    }
  ]
}