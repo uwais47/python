{
  "nbformat": 4,
  "nbformat_minor": 0,
  "metadata": {
    "colab": {
      "provenance": []
    },
    "kernelspec": {
      "name": "python3",
      "display_name": "Python 3"
    },
    "language_info": {
      "name": "python"
    }
  },
  "cells": [
    {
      "cell_type": "code",
      "execution_count": null,
      "metadata": {
        "id": "rg_5OrZsKIMJ"
      },
      "outputs": [],
      "source": [
        "# Import all of the functions from the SymPy library.\n",
        "from sympy import *\n"
      ]
    },
    {
      "cell_type": "code",
      "execution_count": null,
      "metadata": {
        "id": "XRiSaTGKKRgU"
      },
      "outputs": [],
      "source": [
        "# Declare symbolic objects.\n",
        "n , x , y = symbols(\"n x y\")\n"
      ]
    },
    {
      "cell_type": "code",
      "execution_count": null,
      "metadata": {
        "colab": {
          "base_uri": "https://localhost:8080/",
          "height": 38
        },
        "id": "UE5csbPIKQoH",
        "outputId": "963a3c03-6aeb-447e-ecce-47636b657495"
      },
      "outputs": [
        {
          "output_type": "execute_result",
          "data": {
            "text/plain": [
              "(x - y)*(x**2 + x*y + y**2)"
            ],
            "text/latex": "$\\displaystyle \\left(x - y\\right) \\left(x^{2} + x y + y^{2}\\right)$"
          },
          "metadata": {},
          "execution_count": 3
        }
      ],
      "source": [
        "# Factorization.\n",
        "factor(x**3-y**3)"
      ]
    },
    {
      "cell_type": "code",
      "source": [
        "# Solve the algebraic quadratic equation x**2-4*x-3=0.\n",
        "# Note that you don't put \"=0\" in the command line.\n",
        "solve(x**2-7*x-30)"
      ],
      "metadata": {
        "colab": {
          "base_uri": "https://localhost:8080/"
        },
        "id": "x75s9GGWLDr2",
        "outputId": "3eb4f70d-bf4c-4fbe-95c5-49301c54920a"
      },
      "execution_count": null,
      "outputs": [
        {
          "output_type": "execute_result",
          "data": {
            "text/plain": [
              "[-3, 10]"
            ]
          },
          "metadata": {},
          "execution_count": 6
        }
      ]
    },
    {
      "cell_type": "code",
      "source": [
        "# Partial fractions.\n",
        "apart(3*x/((x-1)*(x+2)*(x-5)))"
      ],
      "metadata": {
        "colab": {
          "base_uri": "https://localhost:8080/",
          "height": 55
        },
        "id": "EgGr3o6cLpIe",
        "outputId": "c250c428-aff3-443c-b1e7-404a4f847bfe"
      },
      "execution_count": null,
      "outputs": [
        {
          "output_type": "execute_result",
          "data": {
            "text/plain": [
              "-2/(7*(x + 2)) - 1/(4*(x - 1)) + 15/(28*(x - 5))"
            ],
            "text/latex": "$\\displaystyle - \\frac{2}{7 \\left(x + 2\\right)} - \\frac{1}{4 \\left(x - 1\\right)} + \\frac{15}{28 \\left(x - 5\\right)}$"
          },
          "metadata": {},
          "execution_count": 9
        }
      ]
    },
    {
      "cell_type": "code",
      "source": [
        "# Expand\n",
        "expand((y+x-3)*(x**2-y+4))\n"
      ],
      "metadata": {
        "colab": {
          "base_uri": "https://localhost:8080/",
          "height": 38
        },
        "id": "Alc5RugKMV5V",
        "outputId": "7a67cff7-3764-47d2-8f83-2139bb82b1c2"
      },
      "execution_count": null,
      "outputs": [
        {
          "output_type": "execute_result",
          "data": {
            "text/plain": [
              "x**3 + x**2*y - 3*x**2 - x*y + 4*x - y**2 + 7*y - 12"
            ],
            "text/latex": "$\\displaystyle x^{3} + x^{2} y - 3 x^{2} - x y + 4 x - y^{2} + 7 y - 12$"
          },
          "metadata": {},
          "execution_count": 12
        }
      ]
    },
    {
      "cell_type": "code",
      "source": [
        "# Solve linear simultaneous equations.\n",
        "solve([2*x+2-y , y+3*x-1] , [x , y])"
      ],
      "metadata": {
        "colab": {
          "base_uri": "https://localhost:8080/"
        },
        "id": "QF0zd5WBNAVy",
        "outputId": "cf57b8f7-f725-4acb-c966-7bafc6674390"
      },
      "execution_count": null,
      "outputs": [
        {
          "output_type": "execute_result",
          "data": {
            "text/plain": [
              "{x: -1/5, y: 8/5}"
            ]
          },
          "metadata": {},
          "execution_count": 21
        }
      ]
    },
    {
      "cell_type": "code",
      "source": [
        "# Limits: The limit as x->0.\n",
        "limit(x-1/x**2-1 , x , 0)\n"
      ],
      "metadata": {
        "colab": {
          "base_uri": "https://localhost:8080/",
          "height": 37
        },
        "id": "PyBSpEPKPI0p",
        "outputId": "c9830679-0749-4667-b775-18d1da98659e"
      },
      "execution_count": null,
      "outputs": [
        {
          "output_type": "execute_result",
          "data": {
            "text/plain": [
              "-oo"
            ],
            "text/latex": "$\\displaystyle -\\infty$"
          },
          "metadata": {},
          "execution_count": 23
        }
      ]
    },
    {
      "cell_type": "code",
      "source": [
        "# Differentiation.\n",
        "diff(x**2-6*x+9)"
      ],
      "metadata": {
        "colab": {
          "base_uri": "https://localhost:8080/",
          "height": 38
        },
        "id": "lNGWP5wePlkn",
        "outputId": "36ed377a-6e1a-4450-a168-60a024c461b1"
      },
      "execution_count": null,
      "outputs": [
        {
          "output_type": "execute_result",
          "data": {
            "text/plain": [
              "2*x - 6"
            ],
            "text/latex": "$\\displaystyle 2 x - 6$"
          },
          "metadata": {},
          "execution_count": 25
        }
      ]
    },
    {
      "cell_type": "code",
      "source": [
        "# Definite integration to determine the area under a curve.\n",
        "integrate(x**5)"
      ],
      "metadata": {
        "colab": {
          "base_uri": "https://localhost:8080/",
          "height": 54
        },
        "id": "prG2ObzZQzfP",
        "outputId": "e6be5c4b-2c53-4b00-e686-49178a4be601"
      },
      "execution_count": null,
      "outputs": [
        {
          "output_type": "execute_result",
          "data": {
            "text/plain": [
              "x**6/6"
            ],
            "text/latex": "$\\displaystyle \\frac{x^{6}}{6}$"
          },
          "metadata": {},
          "execution_count": 27
        }
      ]
    },
    {
      "cell_type": "code",
      "source": [
        "integrate(x**5 , (x , 1, 4))"
      ],
      "metadata": {
        "colab": {
          "base_uri": "https://localhost:8080/",
          "height": 51
        },
        "id": "VGZ6hwiERDEd",
        "outputId": "46ef297b-75ca-4aa3-d904-d6c90898d1df"
      },
      "execution_count": null,
      "outputs": [
        {
          "output_type": "execute_result",
          "data": {
            "text/plain": [
              "1365/2"
            ],
            "text/latex": "$\\displaystyle \\frac{1365}{2}$"
          },
          "metadata": {},
          "execution_count": 29
        }
      ]
    },
    {
      "cell_type": "code",
      "source": [
        "# Define two 2x2 matrices.\n",
        "A , B = Matrix([[1 , 2] , [-1 , 0]]) , Matrix([[1 , -3] , [4 , 7]])\n",
        "A , B"
      ],
      "metadata": {
        "colab": {
          "base_uri": "https://localhost:8080/"
        },
        "id": "nB_hlCgdR0vN",
        "outputId": "fc7454e4-9365-463a-d59a-4261758a880a"
      },
      "execution_count": null,
      "outputs": [
        {
          "output_type": "execute_result",
          "data": {
            "text/plain": [
              "(Matrix([\n",
              " [ 1, 2],\n",
              " [-1, 0]]),\n",
              " Matrix([\n",
              " [1, -3],\n",
              " [4,  7]]))"
            ]
          },
          "metadata": {},
          "execution_count": 30
        }
      ]
    },
    {
      "cell_type": "code",
      "source": [
        "2*A"
      ],
      "metadata": {
        "colab": {
          "base_uri": "https://localhost:8080/",
          "height": 58
        },
        "id": "guMcp0HkSaz0",
        "outputId": "443cd8a0-1122-4402-a94d-dd87e31cba02"
      },
      "execution_count": null,
      "outputs": [
        {
          "output_type": "execute_result",
          "data": {
            "text/plain": [
              "Matrix([\n",
              "[ 2, 4],\n",
              "[-2, 0]])"
            ],
            "text/latex": "$\\displaystyle \\left[\\begin{matrix}2 & 4\\\\-2 & 0\\end{matrix}\\right]$"
          },
          "metadata": {},
          "execution_count": 31
        }
      ]
    },
    {
      "cell_type": "code",
      "source": [
        "3*A+4*B"
      ],
      "metadata": {
        "colab": {
          "base_uri": "https://localhost:8080/",
          "height": 58
        },
        "id": "xvXmdsKUSinb",
        "outputId": "6805a2a1-cc2c-4c1a-bd9b-047e2b69bf4a"
      },
      "execution_count": null,
      "outputs": [
        {
          "output_type": "execute_result",
          "data": {
            "text/plain": [
              "Matrix([\n",
              "[ 7, -6],\n",
              "[13, 28]])"
            ],
            "text/latex": "$\\displaystyle \\left[\\begin{matrix}7 & -6\\\\13 & 28\\end{matrix}\\right]$"
          },
          "metadata": {},
          "execution_count": 32
        }
      ]
    },
    {
      "cell_type": "code",
      "source": [
        "A*B"
      ],
      "metadata": {
        "colab": {
          "base_uri": "https://localhost:8080/",
          "height": 58
        },
        "id": "UeNd-YETS5ej",
        "outputId": "3ec86e74-37d9-4f6b-9354-d1c1405b1519"
      },
      "execution_count": null,
      "outputs": [
        {
          "output_type": "execute_result",
          "data": {
            "text/plain": [
              "Matrix([\n",
              "[ 9, 11],\n",
              "[-1,  3]])"
            ],
            "text/latex": "$\\displaystyle \\left[\\begin{matrix}9 & 11\\\\-1 & 3\\end{matrix}\\right]$"
          },
          "metadata": {},
          "execution_count": 33
        }
      ]
    },
    {
      "cell_type": "code",
      "source": [
        "# Matrix inverse.\n",
        "A.inv()"
      ],
      "metadata": {
        "colab": {
          "base_uri": "https://localhost:8080/",
          "height": 58
        },
        "id": "l41IwbZoTBvC",
        "outputId": "1ae6e3cc-5896-4c3c-f13f-7c2fa422d906"
      },
      "execution_count": null,
      "outputs": [
        {
          "output_type": "execute_result",
          "data": {
            "text/plain": [
              "Matrix([\n",
              "[  0,  -1],\n",
              "[1/2, 1/2]])"
            ],
            "text/latex": "$\\displaystyle \\left[\\begin{matrix}0 & -1\\\\\\frac{1}{2} & \\frac{1}{2}\\end{matrix}\\right]$"
          },
          "metadata": {},
          "execution_count": 34
        }
      ]
    },
    {
      "cell_type": "code",
      "source": [
        "# The determinant.\n",
        "B.det()"
      ],
      "metadata": {
        "colab": {
          "base_uri": "https://localhost:8080/",
          "height": 37
        },
        "id": "BPZ7E8ZoTJXi",
        "outputId": "2060a567-66f7-4e45-bdb1-a24cc75dfb64"
      },
      "execution_count": null,
      "outputs": [
        {
          "output_type": "execute_result",
          "data": {
            "text/plain": [
              "19"
            ],
            "text/latex": "$\\displaystyle 19$"
          },
          "metadata": {},
          "execution_count": 35
        }
      ]
    }
  ]
}